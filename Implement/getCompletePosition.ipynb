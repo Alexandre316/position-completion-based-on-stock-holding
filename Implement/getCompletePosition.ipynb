{
 "cells": [
  {
   "cell_type": "code",
   "execution_count": 1,
   "id": "f5f694ee",
   "metadata": {
    "ExecuteTime": {
     "end_time": "2022-04-02T14:57:00.579275Z",
     "start_time": "2022-04-02T14:57:00.556276Z"
    }
   },
   "outputs": [
    {
     "data": {
      "text/plain": [
       "['D:\\\\Anaconda\\\\envs\\\\position_completion_new\\\\python36.zip',\n",
       " 'D:\\\\Anaconda\\\\envs\\\\position_completion_new\\\\DLLs',\n",
       " 'D:\\\\Anaconda\\\\envs\\\\position_completion_new\\\\lib',\n",
       " 'D:\\\\Anaconda\\\\envs\\\\position_completion_new',\n",
       " '',\n",
       " 'D:\\\\Anaconda\\\\envs\\\\position_completion_new\\\\Lib\\\\site-packages',\n",
       " 'D:\\\\Anaconda\\\\envs\\\\position_completion_new\\\\Lib\\\\site-packages\\\\win32',\n",
       " 'D:\\\\Anaconda\\\\envs\\\\position_completion_new\\\\Lib\\\\site-packages\\\\win32\\\\lib',\n",
       " 'D:\\\\Anaconda\\\\envs\\\\position_completion_new\\\\Lib\\\\site-packages\\\\Pythonwin',\n",
       " 'D:\\\\Anaconda\\\\envs\\\\position_completion_new\\\\Lib\\\\site-packages\\\\IPython\\\\extensions',\n",
       " 'C:\\\\Users\\\\93973\\\\.ipython']"
      ]
     },
     "execution_count": 1,
     "metadata": {},
     "output_type": "execute_result"
    }
   ],
   "source": [
    "import sys\n",
    "sys.path"
   ]
  },
  {
   "cell_type": "code",
   "execution_count": 2,
   "id": "4774a6f8",
   "metadata": {
    "ExecuteTime": {
     "end_time": "2022-04-02T14:57:00.595312Z",
     "start_time": "2022-04-02T14:57:00.582273Z"
    }
   },
   "outputs": [
    {
     "name": "stdout",
     "output_type": "stream",
     "text": [
      "3.6.13 |Anaconda, Inc.| (default, Mar 16 2021, 11:37:27) [MSC v.1916 64 bit (AMD64)]\n",
      "D:\\Anaconda\\envs\\position_completion_new\\python.exe\n"
     ]
    }
   ],
   "source": [
    "print(sys.version)\n",
    "print(sys.executable)"
   ]
  },
  {
   "cell_type": "code",
   "execution_count": 3,
   "id": "47646c87",
   "metadata": {
    "ExecuteTime": {
     "end_time": "2022-04-02T14:57:03.175309Z",
     "start_time": "2022-04-02T14:57:00.598279Z"
    },
    "scrolled": true
   },
   "outputs": [],
   "source": [
    "import pandas as pd\n",
    "import numpy as np\n",
    "from collections import Iterable\n",
    "import datetime\n",
    "import time\n",
    "import warnings\n",
    "warnings.filterwarnings(\"ignore\")\n",
    "import matplotlib.pyplot as plt\n",
    "from scipy.stats import spearmanr"
   ]
  },
  {
   "cell_type": "code",
   "execution_count": 4,
   "id": "56209691",
   "metadata": {
    "ExecuteTime": {
     "end_time": "2022-04-02T14:57:03.191280Z",
     "start_time": "2022-04-02T14:57:03.182291Z"
    }
   },
   "outputs": [],
   "source": [
    "import os\n",
    "os.chdir(\"../\")"
   ]
  },
  {
   "cell_type": "markdown",
   "id": "7ae915d8",
   "metadata": {
    "ExecuteTime": {
     "end_time": "2022-03-24T02:03:36.372828Z",
     "start_time": "2022-03-24T02:03:36.362837Z"
    }
   },
   "source": [
    "#### 1.数据读取"
   ]
  },
  {
   "cell_type": "code",
   "execution_count": 5,
   "id": "c38979c5",
   "metadata": {
    "ExecuteTime": {
     "end_time": "2022-04-02T14:57:38.589300Z",
     "start_time": "2022-04-02T14:57:03.198284Z"
    }
   },
   "outputs": [],
   "source": [
    "# 文件名称简介见’文件名称字典.txt‘\n",
    "df_fund_portfolio = pd.read_csv('./Data/ChinaMutualFundStockPortfolio.csv')\n",
    "stock_value_to_nav = pd.read_csv(\"./Data/StkValuetToFundNAV.csv\",index_col = \"基金代码\")\n",
    "industry_value_to_nav = pd.read_csv(\"./Data/IndustryValueToNAV.csv\")\n",
    "# stock_fund_info = pd.read_csv(\"./Data/StkFundInfo.csv\")\n",
    "stk_actual_publish_date = pd.read_excel(\"./Data/StkActualPublishDate.xlsx\",index_col = \"股票代码\")\n",
    "fund_actual_publish_date = pd.read_excel(\"./Data/FundActualPublishDate.xlsx\",index_col = \"基金代码\")\n",
    "month_begin_end_df = pd.read_excel(\"./Data/MonthBeginEnd.xlsx\")\n",
    "new_skt_ind = pd.read_excel(\"./Data/StkIndustry.xlsx\",index_col = \"股票代码\")\n",
    "fund_type = pd.read_excel(\"./Data/FundType.xlsx\")\n",
    "pct_skttotnav = pd.read_excel('./Data/PctStkTotalNAV.xlsx',index_col = \"基金代码\")\n",
    "fund_full_name = pd.read_excel(\"./Data/FundFullName.xlsx\")\n",
    "\n",
    "#修改时间格式\n",
    "df_fund_portfolio.F_PRT_ENDDATE = pd.to_datetime(df_fund_portfolio.F_PRT_ENDDATE,)\n",
    "df_fund_portfolio.ANN_DATE = pd.to_datetime(df_fund_portfolio.ANN_DATE)\n",
    "stock_value_to_nav.columns = pd.to_datetime(stock_value_to_nav.columns)\n",
    "industry_value_to_nav.F_PRT_ENDDATE = pd.to_datetime(industry_value_to_nav.F_PRT_ENDDATE)\n",
    "# stock_fund_info.F_PRT_ENDDATE = pd.to_datetime(stock_fund_info.F_PRT_ENDDATE)\n",
    "# stock_fund_info.ANN_DATE = pd.to_datetime(stock_fund_info.ANN_DATE)\n",
    "stk_actual_publish_date.columns = pd.to_datetime(stk_actual_publish_date.columns)\n",
    "fund_actual_publish_date.columns = pd.to_datetime(fund_actual_publish_date.columns)"
   ]
  },
  {
   "cell_type": "code",
   "execution_count": 6,
   "id": "9b44e518",
   "metadata": {
    "ExecuteTime": {
     "end_time": "2022-04-02T14:57:38.952312Z",
     "start_time": "2022-04-02T14:57:38.592304Z"
    }
   },
   "outputs": [
    {
     "data": {
      "text/html": [
       "<div>\n",
       "<style scoped>\n",
       "    .dataframe tbody tr th:only-of-type {\n",
       "        vertical-align: middle;\n",
       "    }\n",
       "\n",
       "    .dataframe tbody tr th {\n",
       "        vertical-align: top;\n",
       "    }\n",
       "\n",
       "    .dataframe thead th {\n",
       "        text-align: right;\n",
       "    }\n",
       "</style>\n",
       "<table border=\"1\" class=\"dataframe\">\n",
       "  <thead>\n",
       "    <tr style=\"text-align: right;\">\n",
       "      <th></th>\n",
       "      <th>S_INFO_WINDCODE</th>\n",
       "      <th>F_PRT_ENDDATE</th>\n",
       "      <th>S_INFO_STOCKWINDCODE</th>\n",
       "      <th>F_PRT_STKVALUE</th>\n",
       "      <th>F_PRT_STKVALUETONAV</th>\n",
       "      <th>ANN_DATE</th>\n",
       "      <th>STOCK_PER</th>\n",
       "      <th>FLOAT_SHR_PER</th>\n",
       "      <th>INDUSTRY_NUM</th>\n",
       "      <th>F_PRT_INDVALUETONAV</th>\n",
       "    </tr>\n",
       "  </thead>\n",
       "  <tbody>\n",
       "    <tr>\n",
       "      <th>0</th>\n",
       "      <td>519908.OF</td>\n",
       "      <td>1998-07-31</td>\n",
       "      <td>600895.SH</td>\n",
       "      <td>2.492654e+07</td>\n",
       "      <td>1.21</td>\n",
       "      <td>1998-08-07</td>\n",
       "      <td>2.66</td>\n",
       "      <td>2.89</td>\n",
       "      <td>11.0</td>\n",
       "      <td>NaN</td>\n",
       "    </tr>\n",
       "    <tr>\n",
       "      <th>1</th>\n",
       "      <td>519908.OF</td>\n",
       "      <td>1998-09-30</td>\n",
       "      <td>000063.SZ</td>\n",
       "      <td>1.387409e+08</td>\n",
       "      <td>6.95</td>\n",
       "      <td>1998-10-09</td>\n",
       "      <td>14.99</td>\n",
       "      <td>6.06</td>\n",
       "      <td>3.0</td>\n",
       "      <td>NaN</td>\n",
       "    </tr>\n",
       "    <tr>\n",
       "      <th>2</th>\n",
       "      <td>519908.OF</td>\n",
       "      <td>1998-09-30</td>\n",
       "      <td>000069.SZ</td>\n",
       "      <td>2.309391e+07</td>\n",
       "      <td>1.15</td>\n",
       "      <td>1998-10-09</td>\n",
       "      <td>2.50</td>\n",
       "      <td>2.44</td>\n",
       "      <td>11.0</td>\n",
       "      <td>NaN</td>\n",
       "    </tr>\n",
       "    <tr>\n",
       "      <th>3</th>\n",
       "      <td>519908.OF</td>\n",
       "      <td>1998-09-30</td>\n",
       "      <td>000400.SZ</td>\n",
       "      <td>6.593623e+07</td>\n",
       "      <td>3.30</td>\n",
       "      <td>1998-10-09</td>\n",
       "      <td>7.12</td>\n",
       "      <td>5.49</td>\n",
       "      <td>3.0</td>\n",
       "      <td>NaN</td>\n",
       "    </tr>\n",
       "    <tr>\n",
       "      <th>4</th>\n",
       "      <td>519908.OF</td>\n",
       "      <td>1998-09-30</td>\n",
       "      <td>000670.SZ</td>\n",
       "      <td>2.054146e+07</td>\n",
       "      <td>1.03</td>\n",
       "      <td>1998-10-09</td>\n",
       "      <td>2.22</td>\n",
       "      <td>1.40</td>\n",
       "      <td>3.0</td>\n",
       "      <td>NaN</td>\n",
       "    </tr>\n",
       "    <tr>\n",
       "      <th>...</th>\n",
       "      <td>...</td>\n",
       "      <td>...</td>\n",
       "      <td>...</td>\n",
       "      <td>...</td>\n",
       "      <td>...</td>\n",
       "      <td>...</td>\n",
       "      <td>...</td>\n",
       "      <td>...</td>\n",
       "      <td>...</td>\n",
       "      <td>...</td>\n",
       "    </tr>\n",
       "    <tr>\n",
       "      <th>6235808</th>\n",
       "      <td>005245.OF</td>\n",
       "      <td>2021-06-30</td>\n",
       "      <td>688575.SH</td>\n",
       "      <td>1.102291e+05</td>\n",
       "      <td>0.02</td>\n",
       "      <td>2021-08-31</td>\n",
       "      <td>0.02</td>\n",
       "      <td>0.01</td>\n",
       "      <td>3.0</td>\n",
       "      <td>77.676132</td>\n",
       "    </tr>\n",
       "    <tr>\n",
       "      <th>6235809</th>\n",
       "      <td>005244.OF</td>\n",
       "      <td>2021-06-30</td>\n",
       "      <td>688575.SH</td>\n",
       "      <td>1.102291e+05</td>\n",
       "      <td>0.02</td>\n",
       "      <td>2021-08-31</td>\n",
       "      <td>0.02</td>\n",
       "      <td>0.01</td>\n",
       "      <td>3.0</td>\n",
       "      <td>77.676132</td>\n",
       "    </tr>\n",
       "    <tr>\n",
       "      <th>6235810</th>\n",
       "      <td>005245.OF</td>\n",
       "      <td>2021-06-30</td>\n",
       "      <td>300918.SZ</td>\n",
       "      <td>1.033297e+05</td>\n",
       "      <td>0.02</td>\n",
       "      <td>2021-08-31</td>\n",
       "      <td>0.02</td>\n",
       "      <td>0.01</td>\n",
       "      <td>3.0</td>\n",
       "      <td>77.676132</td>\n",
       "    </tr>\n",
       "    <tr>\n",
       "      <th>6235811</th>\n",
       "      <td>005244.OF</td>\n",
       "      <td>2021-06-30</td>\n",
       "      <td>300918.SZ</td>\n",
       "      <td>1.033297e+05</td>\n",
       "      <td>0.02</td>\n",
       "      <td>2021-08-31</td>\n",
       "      <td>0.02</td>\n",
       "      <td>0.01</td>\n",
       "      <td>3.0</td>\n",
       "      <td>77.676132</td>\n",
       "    </tr>\n",
       "    <tr>\n",
       "      <th>6235812</th>\n",
       "      <td>005245.OF</td>\n",
       "      <td>2021-06-30</td>\n",
       "      <td>688668.SH</td>\n",
       "      <td>9.946175e+04</td>\n",
       "      <td>0.02</td>\n",
       "      <td>2021-08-31</td>\n",
       "      <td>0.02</td>\n",
       "      <td>0.02</td>\n",
       "      <td>3.0</td>\n",
       "      <td>77.676132</td>\n",
       "    </tr>\n",
       "  </tbody>\n",
       "</table>\n",
       "<p>6235813 rows × 10 columns</p>\n",
       "</div>"
      ],
      "text/plain": [
       "        S_INFO_WINDCODE F_PRT_ENDDATE S_INFO_STOCKWINDCODE  F_PRT_STKVALUE  \\\n",
       "0             519908.OF    1998-07-31            600895.SH    2.492654e+07   \n",
       "1             519908.OF    1998-09-30            000063.SZ    1.387409e+08   \n",
       "2             519908.OF    1998-09-30            000069.SZ    2.309391e+07   \n",
       "3             519908.OF    1998-09-30            000400.SZ    6.593623e+07   \n",
       "4             519908.OF    1998-09-30            000670.SZ    2.054146e+07   \n",
       "...                 ...           ...                  ...             ...   \n",
       "6235808       005245.OF    2021-06-30            688575.SH    1.102291e+05   \n",
       "6235809       005244.OF    2021-06-30            688575.SH    1.102291e+05   \n",
       "6235810       005245.OF    2021-06-30            300918.SZ    1.033297e+05   \n",
       "6235811       005244.OF    2021-06-30            300918.SZ    1.033297e+05   \n",
       "6235812       005245.OF    2021-06-30            688668.SH    9.946175e+04   \n",
       "\n",
       "         F_PRT_STKVALUETONAV   ANN_DATE  STOCK_PER  FLOAT_SHR_PER  \\\n",
       "0                       1.21 1998-08-07       2.66           2.89   \n",
       "1                       6.95 1998-10-09      14.99           6.06   \n",
       "2                       1.15 1998-10-09       2.50           2.44   \n",
       "3                       3.30 1998-10-09       7.12           5.49   \n",
       "4                       1.03 1998-10-09       2.22           1.40   \n",
       "...                      ...        ...        ...            ...   \n",
       "6235808                 0.02 2021-08-31       0.02           0.01   \n",
       "6235809                 0.02 2021-08-31       0.02           0.01   \n",
       "6235810                 0.02 2021-08-31       0.02           0.01   \n",
       "6235811                 0.02 2021-08-31       0.02           0.01   \n",
       "6235812                 0.02 2021-08-31       0.02           0.02   \n",
       "\n",
       "         INDUSTRY_NUM  F_PRT_INDVALUETONAV  \n",
       "0                11.0                  NaN  \n",
       "1                 3.0                  NaN  \n",
       "2                11.0                  NaN  \n",
       "3                 3.0                  NaN  \n",
       "4                 3.0                  NaN  \n",
       "...               ...                  ...  \n",
       "6235808           3.0            77.676132  \n",
       "6235809           3.0            77.676132  \n",
       "6235810           3.0            77.676132  \n",
       "6235811           3.0            77.676132  \n",
       "6235812           3.0            77.676132  \n",
       "\n",
       "[6235813 rows x 10 columns]"
      ]
     },
     "execution_count": 6,
     "metadata": {},
     "output_type": "execute_result"
    }
   ],
   "source": [
    "df_fund_portfolio.drop([\"CRNCY_CODE\",\"F_PRT_STKQUANTITY\",\"F_PRT_POSSTKVALUE\",\"F_PRT_POSSTKQUANTITY\",\"F_PRT_POSSTKTONAV\",\\\n",
    "                        \"F_PRT_PASSTKEVALUE\",\"F_PRT_PASSTKQUANTITY\",\"F_PRT_PASSTKTONAV\",\"OPDATE\",\"OPMODE\",\"INDUSTRY_CODE\",\"INDUSTRY_NAME\"],axis = 1)"
   ]
  },
  {
   "cell_type": "markdown",
   "id": "21d204e1",
   "metadata": {
    "ExecuteTime": {
     "end_time": "2022-03-24T02:53:41.792498Z",
     "start_time": "2022-03-24T02:53:41.685501Z"
    }
   },
   "source": [
    "#### 2.数据清洗"
   ]
  },
  {
   "cell_type": "markdown",
   "id": "a59556a4",
   "metadata": {},
   "source": [
    "##### (1)去除lof基金"
   ]
  },
  {
   "cell_type": "code",
   "execution_count": 7,
   "id": "6f8de462",
   "metadata": {
    "ExecuteTime": {
     "end_time": "2022-04-02T14:57:41.781302Z",
     "start_time": "2022-04-02T14:57:38.954275Z"
    }
   },
   "outputs": [],
   "source": [
    "# 去除LOF基金\n",
    "df_fund_portfolio = df_fund_portfolio.loc[~df_fund_portfolio.loc[:,'S_INFO_WINDCODE'].map(lambda x: x[-2:] in [\"SH\",\"SZ\"])]\n",
    "df_fund_portfolio.reset_index(inplace = True,drop = True)"
   ]
  },
  {
   "cell_type": "markdown",
   "id": "27b57343",
   "metadata": {},
   "source": [
    "##### (2)剔除分级基金"
   ]
  },
  {
   "cell_type": "code",
   "execution_count": 8,
   "id": "54d83ec8",
   "metadata": {
    "ExecuteTime": {
     "end_time": "2022-04-02T14:57:41.797303Z",
     "start_time": "2022-04-02T14:57:41.785275Z"
    }
   },
   "outputs": [
    {
     "data": {
      "text/plain": [
       "'\\n集合理财计划名称相同，但是基金简称不同，只保留其中一只基金，排序后去重大概率保留A类原始基金\\n对集合理财计划、公告日期和股票代码相同的基金去重\\n'"
      ]
     },
     "execution_count": 8,
     "metadata": {},
     "output_type": "execute_result"
    }
   ],
   "source": [
    "\"\"\"\n",
    "集合理财计划名称相同，但是基金简称不同，只保留其中一只基金，排序后去重大概率保留A类原始基金\n",
    "对集合理财计划、公告日期和股票代码相同的基金去重\n",
    "\"\"\""
   ]
  },
  {
   "cell_type": "code",
   "execution_count": 9,
   "id": "2f6a77e1",
   "metadata": {
    "ExecuteTime": {
     "end_time": "2022-04-02T14:57:48.666271Z",
     "start_time": "2022-04-02T14:57:41.800280Z"
    }
   },
   "outputs": [],
   "source": [
    "df_fund_portfolio = pd.merge(left = df_fund_portfolio,right = fund_full_name,left_on = \"S_INFO_WINDCODE\",right_on = \"S_INFO_WINDCODE\") "
   ]
  },
  {
   "cell_type": "code",
   "execution_count": 10,
   "id": "ddd8719c",
   "metadata": {
    "ExecuteTime": {
     "end_time": "2022-04-02T14:57:55.434280Z",
     "start_time": "2022-04-02T14:57:48.669274Z"
    }
   },
   "outputs": [],
   "source": [
    "df_fund_portfolio.sort_values(by = 'FUND_SIMPLIFIED_NAME',ascending = True,inplace = True) # 使得A类基金能够排在前面"
   ]
  },
  {
   "cell_type": "code",
   "execution_count": 11,
   "id": "0efc54ee",
   "metadata": {
    "ExecuteTime": {
     "end_time": "2022-04-02T14:57:59.352275Z",
     "start_time": "2022-04-02T14:57:55.439308Z"
    }
   },
   "outputs": [],
   "source": [
    "df_fund_portfolio.drop_duplicates([\"S_INFO_STOCKWINDCODE\",\"F_PRT_ENDDATE\",\"FUND_FULL_NAME\"],inplace = True) # 对集合理财计划、公告日期和股票代码相同的基金去重"
   ]
  },
  {
   "cell_type": "markdown",
   "id": "6e54586a",
   "metadata": {},
   "source": [
    "##### (3)保留偏股混合型、普通股票型基金"
   ]
  },
  {
   "cell_type": "code",
   "execution_count": 12,
   "id": "5264d9e1",
   "metadata": {
    "ExecuteTime": {
     "end_time": "2022-04-02T14:57:59.698277Z",
     "start_time": "2022-04-02T14:57:59.355277Z"
    }
   },
   "outputs": [],
   "source": [
    "stk_bond_fund_list = pd.read_excel(\"./Data/StkBondFundList.xlsx\") # 偏股混合型基金\n",
    "stk_fund_list = pd.read_excel(\"./Data/StkFundList.xlsx\") # 普通股票型基金"
   ]
  },
  {
   "cell_type": "code",
   "execution_count": 13,
   "id": "4ec4b475",
   "metadata": {
    "ExecuteTime": {
     "end_time": "2022-04-02T14:58:00.913273Z",
     "start_time": "2022-04-02T14:57:59.701275Z"
    }
   },
   "outputs": [],
   "source": [
    "# 只选择在偏股混合型基金和普通股票型基金列表中存在的基金\n",
    "df_fund_portfolio.query(\"S_INFO_WINDCODE in {} or S_INFO_WINDCODE in {}\".format(stk_bond_fund_list.S_INFO_WINDCODE.tolist(),stk_fund_list.S_INFO_WINDCODE.tolist()),inplace = True)"
   ]
  },
  {
   "cell_type": "markdown",
   "id": "204d8faf",
   "metadata": {},
   "source": [
    "##### (4)公告日期对齐"
   ]
  },
  {
   "cell_type": "code",
   "execution_count": 14,
   "id": "1b2b0733",
   "metadata": {
    "ExecuteTime": {
     "end_time": "2022-04-02T14:58:02.415280Z",
     "start_time": "2022-04-02T14:58:00.917288Z"
    }
   },
   "outputs": [],
   "source": [
    "df_fund_portfolio.sort_values(by = [\"F_PRT_ENDDATE\",\"F_PRT_STKVALUE\"],ascending = True,inplace = True) # 分级排序，按照日期和股票占净值比从小到大排序"
   ]
  },
  {
   "cell_type": "code",
   "execution_count": 15,
   "id": "04da8f32",
   "metadata": {
    "ExecuteTime": {
     "end_time": "2022-04-02T14:58:02.431294Z",
     "start_time": "2022-04-02T14:58:02.419279Z"
    }
   },
   "outputs": [],
   "source": [
    "df_fund_portfolio.reset_index(drop = True,inplace = True)"
   ]
  },
  {
   "cell_type": "code",
   "execution_count": 16,
   "id": "4823b02c",
   "metadata": {
    "ExecuteTime": {
     "end_time": "2022-04-02T14:58:02.447273Z",
     "start_time": "2022-04-02T14:58:02.435285Z"
    }
   },
   "outputs": [
    {
     "data": {
      "text/plain": [
       "'\\n理论上定期报告的代理日期应该在月底，但是部分数据存在特殊情况\\n处理方法为:如果存在月底的报告数据，那么去除当月非月底的数据；若无则将该数据设定为定期报告数据\\n月份非3、6、9、12的数据不予考虑，不知道是什么东西\\n'"
      ]
     },
     "execution_count": 16,
     "metadata": {},
     "output_type": "execute_result"
    }
   ],
   "source": [
    "\"\"\"\n",
    "理论上定期报告的代理日期应该在月底，但是部分数据存在特殊情况\n",
    "处理方法为:如果存在月底的报告数据，那么去除当月非月底的数据；若无则将该数据设定为定期报告数据\n",
    "月份非3、6、9、12的数据不予考虑，不知道是什么东西\n",
    "\"\"\""
   ]
  },
  {
   "cell_type": "code",
   "execution_count": 17,
   "id": "e27cf659",
   "metadata": {
    "ExecuteTime": {
     "end_time": "2022-04-02T14:58:32.415818Z",
     "start_time": "2022-04-02T14:58:02.451275Z"
    }
   },
   "outputs": [],
   "source": [
    "# 只选择整齐在季度月底发布公告的那些信息\n",
    "neat_fund_portfolio = df_fund_portfolio.loc[(df_fund_portfolio.F_PRT_ENDDATE.apply(lambda x:x.month).isin([3,6,9,12]))&\\\n",
    "                      (df_fund_portfolio.F_PRT_ENDDATE.apply(lambda x:x.day).isin([30,31]))]\n",
    "# 虽然在季度当月，但是却不是月底的信息\n",
    "dirty_fund_portfolio = df_fund_portfolio.loc[(~df_fund_portfolio.F_PRT_ENDDATE.apply(lambda x:x.month).isin([3,6,9,12]))|\\\n",
    "                       (~df_fund_portfolio.F_PRT_ENDDATE.apply(lambda x:x.day).isin([30,31]))]"
   ]
  },
  {
   "cell_type": "code",
   "execution_count": 18,
   "id": "4f42d8cf",
   "metadata": {
    "ExecuteTime": {
     "end_time": "2022-04-02T14:58:32.431847Z",
     "start_time": "2022-04-02T14:58:32.418820Z"
    }
   },
   "outputs": [
    {
     "data": {
      "text/plain": [
       "array(['160505.OF', '162703.OF', '162605.OF', '161903.OF', '160106.OF',\n",
       "       '161706.OF', '161005.OF', '162207.OF', '160607.OF', '166001.OF',\n",
       "       '162006.OF', '161610.OF', '160611.OF', '163503.OF', '160916.OF',\n",
       "       '160314.OF', '020018.OF', '165313.OF', '161810.OF', '160212.OF',\n",
       "       '166006.OF', '163406.OF', '166007.OF', '164205.OF', '165508.OF',\n",
       "       '166009.OF', '160512.OF', '165512.OF', '160415.OF', '160127.OF',\n",
       "       '166011.OF', '163412.OF', '165516.OF', '163415.OF', '005632.OF',\n",
       "       '160918.OF', '160133.OF', '501028.OF', '501032.OF', '160322.OF',\n",
       "       '161038.OF', '501038.OF', '166024.OF', '501051.OF', '161131.OF',\n",
       "       '501065.OF', '166025.OF', '161912.OF', '501063.OF', '501070.OF',\n",
       "       '160645.OF', '501088.OF', '501087.OF', '161837.OF', '167508.OF',\n",
       "       '501091.OF', '169107.OF', '501092.OF', '160926.OF', '506002.OF',\n",
       "       '161040.OF', '506000.OF', '160325.OF', '506006.OF', '506003.OF',\n",
       "       '506005.OF', '166027.OF', '506001.OF', '168207.OF', '161914.OF',\n",
       "       '160529.OF', '160143.OF', '162720.OF', '163418.OF'], dtype=object)"
      ]
     },
     "execution_count": 18,
     "metadata": {},
     "output_type": "execute_result"
    }
   ],
   "source": [
    "# 大致有74只公告非常日期的基金，多数为LOF基金，目前先剔除\n",
    "dirty_fund_portfolio.S_INFO_WINDCODE.unique()"
   ]
  },
  {
   "cell_type": "code",
   "execution_count": 19,
   "id": "3f1721b2",
   "metadata": {
    "ExecuteTime": {
     "end_time": "2022-04-02T14:58:32.793814Z",
     "start_time": "2022-04-02T14:58:32.434824Z"
    }
   },
   "outputs": [],
   "source": [
    "# 选择公告日期完全在四季度月底的基金\n",
    "neat_fund_portfolio.query(\"S_INFO_WINDCODE not in {}\".format(dirty_fund_portfolio.S_INFO_WINDCODE.unique().tolist()),inplace = True)"
   ]
  },
  {
   "cell_type": "code",
   "execution_count": 20,
   "id": "71a4368c",
   "metadata": {
    "ExecuteTime": {
     "end_time": "2022-04-02T14:58:32.808818Z",
     "start_time": "2022-04-02T14:58:32.796822Z"
    }
   },
   "outputs": [],
   "source": [
    "neat_fund_portfolio.reset_index(drop = True,inplace = True)"
   ]
  },
  {
   "cell_type": "code",
   "execution_count": 21,
   "id": "427ebc28",
   "metadata": {
    "ExecuteTime": {
     "end_time": "2022-04-02T14:58:32.839857Z",
     "start_time": "2022-04-02T14:58:32.811820Z"
    }
   },
   "outputs": [],
   "source": [
    "# 去除历史上出现跳月的基金，跳月即两个最近的公告月份大于三月，实际上这样的补全并没有意义，比如说2018-06-30->2018-12-31\n",
    "interrupted_fund = neat_fund_portfolio.loc[:,[\"S_INFO_WINDCODE\",\"F_PRT_ENDDATE\"]]"
   ]
  },
  {
   "cell_type": "code",
   "execution_count": 22,
   "id": "ea108a9d",
   "metadata": {
    "ExecuteTime": {
     "end_time": "2022-04-02T14:58:33.170847Z",
     "start_time": "2022-04-02T14:58:32.841858Z"
    }
   },
   "outputs": [],
   "source": [
    "interrupted_fund.sort_values([\"S_INFO_WINDCODE\",\"F_PRT_ENDDATE\"],inplace = True)"
   ]
  },
  {
   "cell_type": "code",
   "execution_count": 23,
   "id": "f79cf924",
   "metadata": {
    "ExecuteTime": {
     "end_time": "2022-04-02T14:58:33.343851Z",
     "start_time": "2022-04-02T14:58:33.175819Z"
    }
   },
   "outputs": [],
   "source": [
    "interrupted_fund.drop_duplicates(inplace = True)"
   ]
  },
  {
   "cell_type": "code",
   "execution_count": 24,
   "id": "6c1cc4e9",
   "metadata": {
    "ExecuteTime": {
     "end_time": "2022-04-02T14:58:33.705845Z",
     "start_time": "2022-04-02T14:58:33.346824Z"
    }
   },
   "outputs": [],
   "source": [
    "interrupted_fund.loc[:,\"DAYS_DIFF\"] = (interrupted_fund.groupby('S_INFO_WINDCODE')[\"F_PRT_ENDDATE\"].diff()/30).astype('timedelta64[D]').astype(float)"
   ]
  },
  {
   "cell_type": "code",
   "execution_count": 25,
   "id": "6fb255b4",
   "metadata": {
    "ExecuteTime": {
     "end_time": "2022-04-02T14:58:33.721826Z",
     "start_time": "2022-04-02T14:58:33.708847Z"
    }
   },
   "outputs": [],
   "source": [
    "interrupted_fund.fillna(3.0,inplace = True)"
   ]
  },
  {
   "cell_type": "code",
   "execution_count": 26,
   "id": "c5ef6974",
   "metadata": {
    "ExecuteTime": {
     "end_time": "2022-04-02T14:58:33.737845Z",
     "start_time": "2022-04-02T14:58:33.724841Z"
    }
   },
   "outputs": [],
   "source": [
    "interrupted_fund_list = interrupted_fund.query(\"DAYS_DIFF != 3\").S_INFO_WINDCODE.unique().tolist() # 若出现上一次报告不是一个季度以前，那么就没必要考虑了"
   ]
  },
  {
   "cell_type": "code",
   "execution_count": 27,
   "id": "c46b2bf8",
   "metadata": {
    "ExecuteTime": {
     "end_time": "2022-04-02T14:58:34.051817Z",
     "start_time": "2022-04-02T14:58:33.739818Z"
    }
   },
   "outputs": [],
   "source": [
    "neat_fund_portfolio.query(f\"S_INFO_WINDCODE not in {interrupted_fund_list}\",inplace = True) # 直接把中间出现跳月的基金去除"
   ]
  },
  {
   "cell_type": "code",
   "execution_count": 28,
   "id": "bc8b06b1",
   "metadata": {
    "ExecuteTime": {
     "end_time": "2022-04-02T14:58:34.067816Z",
     "start_time": "2022-04-02T14:58:34.054820Z"
    }
   },
   "outputs": [],
   "source": [
    "# 当然还可以考虑基金经理换届，这里就不考虑了"
   ]
  },
  {
   "cell_type": "markdown",
   "id": "ee285f3c",
   "metadata": {},
   "source": [
    "#### 3.补全持仓并输出持仓明细"
   ]
  },
  {
   "cell_type": "code",
   "execution_count": 29,
   "id": "9eb3a970",
   "metadata": {
    "ExecuteTime": {
     "end_time": "2022-04-02T14:58:34.083824Z",
     "start_time": "2022-04-02T14:58:34.070818Z"
    }
   },
   "outputs": [],
   "source": [
    "neat_fund_portfolio.reset_index(drop = True,inplace = True)\n",
    "\n",
    "start_date = \"2013-12-31\"\n",
    "end_date = \"2021-06-30\""
   ]
  },
  {
   "cell_type": "code",
   "execution_count": 30,
   "id": "2efc7ff7",
   "metadata": {
    "ExecuteTime": {
     "end_time": "2022-04-02T14:59:15.454764Z",
     "start_time": "2022-04-02T14:58:34.088817Z"
    },
    "scrolled": true
   },
   "outputs": [
    {
     "name": "stdout",
     "output_type": "stream",
     "text": [
      "processing 519002.OF\n",
      "processing 519019.OF\n",
      "processing 050008.OF\n",
      "processing 519606.OF\n",
      "processing 519915.OF\n",
      "processing 160919.OF\n",
      "processing 050009.OF\n",
      "processing 202005.OF\n",
      "processing 202007.OF\n",
      "processing 519035.OF\n",
      "processing 110013.OF\n",
      "processing 110029.OF\n",
      "processing 519039.OF\n",
      "processing 213008.OF\n",
      "processing 519017.OF\n",
      "processing 040008.OF\n",
      "processing 040007.OF\n",
      "processing 121008.OF\n",
      "processing 161601.OF\n",
      "processing 080001.OF\n",
      "processing 150968.OF\n",
      "processing 070001.OF\n",
      "processing 217001.OF\n",
      "processing 240001.OF\n",
      "processing 070002.OF\n",
      "processing 070003.OF\n"
     ]
    },
    {
     "ename": "KeyboardInterrupt",
     "evalue": "",
     "output_type": "error",
     "traceback": [
      "\u001b[1;31m---------------------------------------------------------------------------\u001b[0m",
      "\u001b[1;31mKeyboardInterrupt\u001b[0m                         Traceback (most recent call last)",
      "\u001b[1;32m<ipython-input-30-2cce07aab43e>\u001b[0m in \u001b[0;36m<module>\u001b[1;34m\u001b[0m\n\u001b[0;32m     67\u001b[0m             \u001b[1;31m# 本季度的披露减去前十大重仓股的行业净值之和，剩下的为本季度的非前十大重仓股的占基金净值比，这部分是需要模拟分配的那部分净值\u001b[0m\u001b[1;33m\u001b[0m\u001b[1;33m\u001b[0m\u001b[1;33m\u001b[0m\u001b[0m\n\u001b[0;32m     68\u001b[0m             \u001b[0mpresent_ind_value_to_nav\u001b[0m\u001b[1;33m.\u001b[0m\u001b[0mloc\u001b[0m\u001b[1;33m[\u001b[0m\u001b[0mindex_intersection\u001b[0m\u001b[1;33m,\u001b[0m\u001b[1;34m\"F_PRT_INDVALUETONAV\"\u001b[0m\u001b[1;33m]\u001b[0m \u001b[1;33m=\u001b[0m\u001b[0;31m \u001b[0m\u001b[0;31m\\\u001b[0m\u001b[1;33m\u001b[0m\u001b[1;33m\u001b[0m\u001b[0m\n\u001b[1;32m---> 69\u001b[1;33m             \u001b[0mpresent_ind_value_to_nav\u001b[0m\u001b[1;33m.\u001b[0m\u001b[0mloc\u001b[0m\u001b[1;33m[\u001b[0m\u001b[0mindex_intersection\u001b[0m\u001b[1;33m,\u001b[0m\u001b[1;34m\"F_PRT_INDVALUETONAV\"\u001b[0m\u001b[1;33m]\u001b[0m \u001b[1;33m-\u001b[0m \u001b[0mpresent_ind_total_pct\u001b[0m\u001b[1;33m\u001b[0m\u001b[1;33m\u001b[0m\u001b[0m\n\u001b[0m\u001b[0;32m     70\u001b[0m \u001b[1;33m\u001b[0m\u001b[0m\n\u001b[0;32m     71\u001b[0m             \u001b[1;31m# 上季度持仓不在本季度重仓股的股票，净值占比为上季度的\u001b[0m\u001b[1;33m\u001b[0m\u001b[1;33m\u001b[0m\u001b[1;33m\u001b[0m\u001b[0m\n",
      "\u001b[1;32mD:\\Anaconda\\envs\\position_completion_new\\Lib\\site-packages\\pandas\\core\\indexing.py\u001b[0m in \u001b[0;36m__setitem__\u001b[1;34m(self, key, value)\u001b[0m\n\u001b[0;32m    668\u001b[0m \u001b[1;33m\u001b[0m\u001b[0m\n\u001b[0;32m    669\u001b[0m         \u001b[0miloc\u001b[0m \u001b[1;33m=\u001b[0m \u001b[0mself\u001b[0m \u001b[1;32mif\u001b[0m \u001b[0mself\u001b[0m\u001b[1;33m.\u001b[0m\u001b[0mname\u001b[0m \u001b[1;33m==\u001b[0m \u001b[1;34m\"iloc\"\u001b[0m \u001b[1;32melse\u001b[0m \u001b[0mself\u001b[0m\u001b[1;33m.\u001b[0m\u001b[0mobj\u001b[0m\u001b[1;33m.\u001b[0m\u001b[0miloc\u001b[0m\u001b[1;33m\u001b[0m\u001b[1;33m\u001b[0m\u001b[0m\n\u001b[1;32m--> 670\u001b[1;33m         \u001b[0miloc\u001b[0m\u001b[1;33m.\u001b[0m\u001b[0m_setitem_with_indexer\u001b[0m\u001b[1;33m(\u001b[0m\u001b[0mindexer\u001b[0m\u001b[1;33m,\u001b[0m \u001b[0mvalue\u001b[0m\u001b[1;33m)\u001b[0m\u001b[1;33m\u001b[0m\u001b[1;33m\u001b[0m\u001b[0m\n\u001b[0m\u001b[0;32m    671\u001b[0m \u001b[1;33m\u001b[0m\u001b[0m\n\u001b[0;32m    672\u001b[0m     \u001b[1;32mdef\u001b[0m \u001b[0m_validate_key\u001b[0m\u001b[1;33m(\u001b[0m\u001b[0mself\u001b[0m\u001b[1;33m,\u001b[0m \u001b[0mkey\u001b[0m\u001b[1;33m,\u001b[0m \u001b[0maxis\u001b[0m\u001b[1;33m:\u001b[0m \u001b[0mint\u001b[0m\u001b[1;33m)\u001b[0m\u001b[1;33m:\u001b[0m\u001b[1;33m\u001b[0m\u001b[1;33m\u001b[0m\u001b[0m\n",
      "\u001b[1;32mD:\\Anaconda\\envs\\position_completion_new\\Lib\\site-packages\\pandas\\core\\indexing.py\u001b[0m in \u001b[0;36m_setitem_with_indexer\u001b[1;34m(self, indexer, value)\u001b[0m\n\u001b[0;32m   1741\u001b[0m                     \u001b[1;31m# we have an equal len list/ndarray\u001b[0m\u001b[1;33m\u001b[0m\u001b[1;33m\u001b[0m\u001b[1;33m\u001b[0m\u001b[0m\n\u001b[0;32m   1742\u001b[0m                     \u001b[1;31m# We only get here with len(labels) == len(ilocs) == 1\u001b[0m\u001b[1;33m\u001b[0m\u001b[1;33m\u001b[0m\u001b[1;33m\u001b[0m\u001b[0m\n\u001b[1;32m-> 1743\u001b[1;33m                     \u001b[0misetter\u001b[0m\u001b[1;33m(\u001b[0m\u001b[0milocs\u001b[0m\u001b[1;33m[\u001b[0m\u001b[1;36m0\u001b[0m\u001b[1;33m]\u001b[0m\u001b[1;33m,\u001b[0m \u001b[0mvalue\u001b[0m\u001b[1;33m)\u001b[0m\u001b[1;33m\u001b[0m\u001b[1;33m\u001b[0m\u001b[0m\n\u001b[0m\u001b[0;32m   1744\u001b[0m \u001b[1;33m\u001b[0m\u001b[0m\n\u001b[0;32m   1745\u001b[0m                 \u001b[1;32melif\u001b[0m \u001b[0mlplane_indexer\u001b[0m \u001b[1;33m==\u001b[0m \u001b[1;36m0\u001b[0m \u001b[1;32mand\u001b[0m \u001b[0mlen\u001b[0m\u001b[1;33m(\u001b[0m\u001b[0mvalue\u001b[0m\u001b[1;33m)\u001b[0m \u001b[1;33m==\u001b[0m \u001b[0mlen\u001b[0m\u001b[1;33m(\u001b[0m\u001b[0mself\u001b[0m\u001b[1;33m.\u001b[0m\u001b[0mobj\u001b[0m\u001b[1;33m.\u001b[0m\u001b[0mindex\u001b[0m\u001b[1;33m)\u001b[0m\u001b[1;33m:\u001b[0m\u001b[1;33m\u001b[0m\u001b[1;33m\u001b[0m\u001b[0m\n",
      "\u001b[1;32mD:\\Anaconda\\envs\\position_completion_new\\Lib\\site-packages\\pandas\\core\\indexing.py\u001b[0m in \u001b[0;36misetter\u001b[1;34m(loc, v)\u001b[0m\n\u001b[0;32m   1691\u001b[0m \u001b[1;33m\u001b[0m\u001b[0m\n\u001b[0;32m   1692\u001b[0m                 \u001b[1;31m# reset the sliced object if unique\u001b[0m\u001b[1;33m\u001b[0m\u001b[1;33m\u001b[0m\u001b[1;33m\u001b[0m\u001b[0m\n\u001b[1;32m-> 1693\u001b[1;33m                 \u001b[0mself\u001b[0m\u001b[1;33m.\u001b[0m\u001b[0mobj\u001b[0m\u001b[1;33m.\u001b[0m\u001b[0m_iset_item\u001b[0m\u001b[1;33m(\u001b[0m\u001b[0mloc\u001b[0m\u001b[1;33m,\u001b[0m \u001b[0mser\u001b[0m\u001b[1;33m)\u001b[0m\u001b[1;33m\u001b[0m\u001b[1;33m\u001b[0m\u001b[0m\n\u001b[0m\u001b[0;32m   1694\u001b[0m \u001b[1;33m\u001b[0m\u001b[0m\n\u001b[0;32m   1695\u001b[0m             \u001b[1;31m# we need an iterable, with a ndim of at least 1\u001b[0m\u001b[1;33m\u001b[0m\u001b[1;33m\u001b[0m\u001b[1;33m\u001b[0m\u001b[0m\n",
      "\u001b[1;32mD:\\Anaconda\\envs\\position_completion_new\\Lib\\site-packages\\pandas\\core\\frame.py\u001b[0m in \u001b[0;36m_iset_item\u001b[1;34m(self, loc, value)\u001b[0m\n\u001b[0;32m   3098\u001b[0m         \u001b[1;31m# technically _sanitize_column expects a label, not a position,\u001b[0m\u001b[1;33m\u001b[0m\u001b[1;33m\u001b[0m\u001b[1;33m\u001b[0m\u001b[0m\n\u001b[0;32m   3099\u001b[0m         \u001b[1;31m#  but the behavior is the same as long as we pass broadcast=False\u001b[0m\u001b[1;33m\u001b[0m\u001b[1;33m\u001b[0m\u001b[1;33m\u001b[0m\u001b[0m\n\u001b[1;32m-> 3100\u001b[1;33m         \u001b[0mvalue\u001b[0m \u001b[1;33m=\u001b[0m \u001b[0mself\u001b[0m\u001b[1;33m.\u001b[0m\u001b[0m_sanitize_column\u001b[0m\u001b[1;33m(\u001b[0m\u001b[0mloc\u001b[0m\u001b[1;33m,\u001b[0m \u001b[0mvalue\u001b[0m\u001b[1;33m,\u001b[0m \u001b[0mbroadcast\u001b[0m\u001b[1;33m=\u001b[0m\u001b[1;32mFalse\u001b[0m\u001b[1;33m)\u001b[0m\u001b[1;33m\u001b[0m\u001b[1;33m\u001b[0m\u001b[0m\n\u001b[0m\u001b[0;32m   3101\u001b[0m         \u001b[0mNDFrame\u001b[0m\u001b[1;33m.\u001b[0m\u001b[0m_iset_item\u001b[0m\u001b[1;33m(\u001b[0m\u001b[0mself\u001b[0m\u001b[1;33m,\u001b[0m \u001b[0mloc\u001b[0m\u001b[1;33m,\u001b[0m \u001b[0mvalue\u001b[0m\u001b[1;33m)\u001b[0m\u001b[1;33m\u001b[0m\u001b[1;33m\u001b[0m\u001b[0m\n\u001b[0;32m   3102\u001b[0m \u001b[1;33m\u001b[0m\u001b[0m\n",
      "\u001b[1;32mD:\\Anaconda\\envs\\position_completion_new\\Lib\\site-packages\\pandas\\core\\frame.py\u001b[0m in \u001b[0;36m_sanitize_column\u001b[1;34m(self, key, value, broadcast)\u001b[0m\n\u001b[0;32m   3743\u001b[0m \u001b[1;33m\u001b[0m\u001b[0m\n\u001b[0;32m   3744\u001b[0m         \u001b[1;32mif\u001b[0m \u001b[0misinstance\u001b[0m\u001b[1;33m(\u001b[0m\u001b[0mvalue\u001b[0m\u001b[1;33m,\u001b[0m \u001b[0mSeries\u001b[0m\u001b[1;33m)\u001b[0m\u001b[1;33m:\u001b[0m\u001b[1;33m\u001b[0m\u001b[1;33m\u001b[0m\u001b[0m\n\u001b[1;32m-> 3745\u001b[1;33m             \u001b[0mvalue\u001b[0m \u001b[1;33m=\u001b[0m \u001b[0mreindexer\u001b[0m\u001b[1;33m(\u001b[0m\u001b[0mvalue\u001b[0m\u001b[1;33m)\u001b[0m\u001b[1;33m\u001b[0m\u001b[1;33m\u001b[0m\u001b[0m\n\u001b[0m\u001b[0;32m   3746\u001b[0m \u001b[1;33m\u001b[0m\u001b[0m\n\u001b[0;32m   3747\u001b[0m         \u001b[1;32melif\u001b[0m \u001b[0misinstance\u001b[0m\u001b[1;33m(\u001b[0m\u001b[0mvalue\u001b[0m\u001b[1;33m,\u001b[0m \u001b[0mDataFrame\u001b[0m\u001b[1;33m)\u001b[0m\u001b[1;33m:\u001b[0m\u001b[1;33m\u001b[0m\u001b[1;33m\u001b[0m\u001b[0m\n",
      "\u001b[1;32mD:\\Anaconda\\envs\\position_completion_new\\Lib\\site-packages\\pandas\\core\\frame.py\u001b[0m in \u001b[0;36mreindexer\u001b[1;34m(value)\u001b[0m\n\u001b[0;32m   3724\u001b[0m \u001b[1;33m\u001b[0m\u001b[0m\n\u001b[0;32m   3725\u001b[0m             \u001b[1;32mif\u001b[0m \u001b[0mvalue\u001b[0m\u001b[1;33m.\u001b[0m\u001b[0mindex\u001b[0m\u001b[1;33m.\u001b[0m\u001b[0mequals\u001b[0m\u001b[1;33m(\u001b[0m\u001b[0mself\u001b[0m\u001b[1;33m.\u001b[0m\u001b[0mindex\u001b[0m\u001b[1;33m)\u001b[0m \u001b[1;32mor\u001b[0m \u001b[1;32mnot\u001b[0m \u001b[0mlen\u001b[0m\u001b[1;33m(\u001b[0m\u001b[0mself\u001b[0m\u001b[1;33m.\u001b[0m\u001b[0mindex\u001b[0m\u001b[1;33m)\u001b[0m\u001b[1;33m:\u001b[0m\u001b[1;33m\u001b[0m\u001b[1;33m\u001b[0m\u001b[0m\n\u001b[1;32m-> 3726\u001b[1;33m                 \u001b[0mvalue\u001b[0m \u001b[1;33m=\u001b[0m \u001b[0mvalue\u001b[0m\u001b[1;33m.\u001b[0m\u001b[0m_values\u001b[0m\u001b[1;33m.\u001b[0m\u001b[0mcopy\u001b[0m\u001b[1;33m(\u001b[0m\u001b[1;33m)\u001b[0m\u001b[1;33m\u001b[0m\u001b[1;33m\u001b[0m\u001b[0m\n\u001b[0m\u001b[0;32m   3727\u001b[0m             \u001b[1;32melse\u001b[0m\u001b[1;33m:\u001b[0m\u001b[1;33m\u001b[0m\u001b[1;33m\u001b[0m\u001b[0m\n\u001b[0;32m   3728\u001b[0m \u001b[1;33m\u001b[0m\u001b[0m\n",
      "\u001b[1;31mKeyboardInterrupt\u001b[0m: "
     ]
    }
   ],
   "source": [
    "for tmp_fund in neat_fund_portfolio.S_INFO_WINDCODE.unique():\n",
    "    \n",
    "    print(f\"processing {tmp_fund}\")\n",
    "    \n",
    "    fund_portfolio = neat_fund_portfolio.query(\"S_INFO_WINDCODE == '{}'\".format(tmp_fund)) # 每支基金都保存一个持仓excel\n",
    "    fund_portfolio.sort_values(by = [\"F_PRT_ENDDATE\",\"F_PRT_STKVALUE\"],ascending = True,inplace = True) #分级排序，按照日期和股票占净值比从小到大排序\n",
    "    \n",
    "    # 3.6会报错\n",
    "#     fund_stock_value = fund_portfolio.groupby('F_PRT_ENDDATE')[['S_INFO_STOCKWINDCODE','F_PRT_STKVALUE','STOCK_PER',\\\n",
    "#                                                                 'F_PRT_STKVALUETONAV','INDUSTRY_NUM','F_PRT_INDVALUETONAV']].agg(list)\n",
    "    \n",
    "    S_INFO_STOCKWINDCODE_agg = fund_portfolio.groupby('F_PRT_ENDDATE')[\"S_INFO_STOCKWINDCODE\"].apply(list)\n",
    "    F_PRT_STKVALUE_agg = fund_portfolio.groupby('F_PRT_ENDDATE')[\"F_PRT_STKVALUE\"].apply(list)\n",
    "    STOCK_PER_agg = fund_portfolio.groupby('F_PRT_ENDDATE')[\"STOCK_PER\"].apply(list)\n",
    "    F_PRT_STKVALUETONAV_agg = fund_portfolio.groupby('F_PRT_ENDDATE')[\"F_PRT_STKVALUETONAV\"].apply(list)\n",
    "    INDUSTRY_NUM_agg = fund_portfolio.groupby('F_PRT_ENDDATE')[\"INDUSTRY_NUM\"].apply(list)\n",
    "    F_PRT_INDVALUETONAV_agg = fund_portfolio.groupby('F_PRT_ENDDATE')[\"F_PRT_INDVALUETONAV\"].apply(list)\n",
    "    \n",
    "    fund_stock_value = pd.concat([S_INFO_STOCKWINDCODE_agg,F_PRT_STKVALUE_agg,STOCK_PER_agg,F_PRT_STKVALUETONAV_agg,INDUSTRY_NUM_agg,F_PRT_INDVALUETONAV_agg],axis = 1)\n",
    "    \n",
    "    # 存储所有报告实际持仓/模拟持仓的字典\n",
    "    holding_info = dict()\n",
    "    \n",
    "    # 由于2013年以前信息披露与之后不同，因此直接从13年底开始补全\n",
    "    fund_stock_value_between = fund_stock_value.loc[start_date:end_date,:].copy()\n",
    "    \n",
    "    stock_weight = stock_value_to_nav.loc[tmp_fund,:] # 获取当前基金的股票占基金净值比数据\n",
    "    temp_industry_value_to_nav = industry_value_to_nav.dropna().query(\"S_INFO_WINDCODE == '{}'\".format(tmp_fund)) # 获取基金的行业占净值比\n",
    "    \n",
    "    for date,feats in fund_stock_value_between.iterrows():\n",
    "        if pd.to_datetime(date).month%6 == 0: # 假如报告发布月份为年报或者半年班，直接就是全持仓\n",
    "            tmp_data = dict(zip(feats.S_INFO_STOCKWINDCODE,feats.F_PRT_STKVALUETONAV))\n",
    "        else:\n",
    "            if stock_weight.loc[date] - np.nansum(feats.F_PRT_STKVALUETONAV) <= 0: # 假如前10大重仓股已经满了，即成为全持仓\n",
    "                tmp_data = dict(zip(feats.S_INFO_STOCKWINDCODE,feats.F_PRT_STKVALUETONAV))\n",
    "\n",
    "            last_fund_stock_value_between = fund_stock_value.shift(1).loc[date] # 读取上季度的全持仓信息\n",
    "            if last_fund_stock_value_between.dropna().empty: # 如果上季度没有全持仓信息，那么就是第一期就是一三季度，无法补全持仓\n",
    "                continue\n",
    "\n",
    "            last_stock_list = last_fund_stock_value_between.S_INFO_STOCKWINDCODE # 上季度持仓的股票列表\n",
    "            present_stock_list = feats.S_INFO_STOCKWINDCODE # 本季度持仓的股票列表\n",
    "\n",
    "            # 转换成df操作\n",
    "            # 上一个季度的股票占比、所属证监会行业代码和行业占净值比\n",
    "            last_stock_df = np.transpose(pd.DataFrame([last_fund_stock_value_between.F_PRT_STKVALUETONAV,\\\n",
    "                                                       last_fund_stock_value_between.INDUSTRY_NUM,last_fund_stock_value_between.F_PRT_INDVALUETONAV]))\n",
    "            last_stock_df.index = last_stock_list\n",
    "            last_stock_df.columns = [\"F_PRT_STKVALUETONAV\",\"INDUSTRY_NUM\",\"F_PRT_INDVALUETONAV\"]\n",
    "            # 本季度的\n",
    "            present_stock_df = np.transpose(pd.DataFrame([feats.F_PRT_STKVALUETONAV,feats.INDUSTRY_NUM,feats.F_PRT_INDVALUETONAV]))\n",
    "            present_stock_df.index = present_stock_list\n",
    "            present_stock_df.columns = [\"F_PRT_STKVALUETONAV\",\"INDUSTRY_NUM\",\"F_PRT_INDVALUETONAV\"]    \n",
    "\n",
    "            # 对本季度的前十大重仓股持仓信息，按照行业求所占净值比\n",
    "            present_ind_total_pct = present_stock_df.groupby([\"INDUSTRY_NUM\"])[\"F_PRT_STKVALUETONAV\"].apply(np.sum)\n",
    "\n",
    "            # 下面的数据是补充数据，记录了该基金在该季度的披露的证监会一级行业占基金净值比\n",
    "            present_ind_value_to_nav = temp_industry_value_to_nav.query(\"F_PRT_ENDDATE == '{}'\".format(date))\n",
    "            if present_ind_value_to_nav.empty:\n",
    "                continue\n",
    "            present_ind_value_to_nav.set_index('INDUSTRY_NUM',inplace = True)\n",
    "            \n",
    "            # 信息披露垃圾，比如519002.OF的14年一季报，这里需要额外处理垃圾数据，假如说底层数据出现了未出现在季报中披露的行业，则删除\n",
    "            index_intersection = set(present_ind_total_pct.index).intersection(set(present_ind_value_to_nav.index))\n",
    "            \n",
    "            # 本季度的披露减去前十大重仓股的行业净值之和，剩下的为本季度的非前十大重仓股的占基金净值比，这部分是需要模拟分配的那部分净值\n",
    "            present_ind_value_to_nav.loc[index_intersection,\"F_PRT_INDVALUETONAV\"] = \\\n",
    "            present_ind_value_to_nav.loc[index_intersection,\"F_PRT_INDVALUETONAV\"] - present_ind_total_pct\n",
    "\n",
    "            # 上季度持仓不在本季度重仓股的股票，净值占比为上季度的\n",
    "            left_stock_list = set(last_stock_list) - set(present_stock_list)\n",
    "            left_stock_df = last_stock_df.loc[left_stock_list,:]\n",
    "\n",
    "            # 若本季度不再配置某行业，去除上个季度对于该行业的配置\n",
    "            present_ind_num = present_ind_value_to_nav.index.tolist()\n",
    "            left_stock_df = left_stock_df.query(\"INDUSTRY_NUM in {}\".format(present_ind_num))\n",
    "\n",
    "            # 合并两表的准备工作\n",
    "            left_stock_df.loc[:,\"S_INFO_STOCKWINDCODE\"] = left_stock_df.index\n",
    "            present_ind_value_to_nav.loc[:,\"INDUSTRY_NUM\"] = present_ind_value_to_nav.index\n",
    "            present_ind_value_to_nav.reset_index(inplace = True,drop = True)\n",
    "\n",
    "            # 去除两个df中重复的列，防止带入后缀\n",
    "            present_ind_value_to_nav.drop(labels = [\"S_INFO_WINDCODE\",\"F_PRT_ENDDATE\"],axis = 1,inplace = True)\n",
    "            present_ind_value_to_nav = present_ind_value_to_nav[present_ind_value_to_nav.F_PRT_INDVALUETONAV>0]\n",
    "            left_stock_df.drop(labels = [\"F_PRT_INDVALUETONAV\"],axis = 1,inplace = True)\n",
    "\n",
    "            # 按照上一期的行业将本期的剩余净值分配出去\n",
    "            left_stock_df = pd.merge(left = left_stock_df,right = present_ind_value_to_nav,\\\n",
    "                            left_on = \"INDUSTRY_NUM\",right_on = \"INDUSTRY_NUM\",how = \"left\")\n",
    "\n",
    "            left_ind_total_pct = left_stock_df.groupby([\"INDUSTRY_NUM\"])[[\"F_PRT_STKVALUETONAV\"]].sum()\n",
    "            left_ind_total_pct.columns = [\"UNALLOCATE_INDNAV\"]\n",
    "            left_ind_total_pct.loc[:,\"INDUSTRY_NUM\"] = left_ind_total_pct.index\n",
    "            left_ind_total_pct.reset_index(inplace = True,drop = True)\n",
    "\n",
    "            left_stock_df = pd.merge(left = left_stock_df,right = left_ind_total_pct,\\\n",
    "                            left_on = \"INDUSTRY_NUM\",right_on = \"INDUSTRY_NUM\",how = \"left\")\n",
    "            #按照上季度每只股票占行业剩余净值之比，将本季度所剩的净值比例分配\n",
    "            stknav_to_indnav_pre = left_stock_df.F_PRT_STKVALUETONAV*left_stock_df.F_PRT_INDVALUETONAV/left_stock_df.UNALLOCATE_INDNAV  \n",
    "\n",
    "            # 本期前十大重仓股和模拟出来的重仓股合并，得出本季度全持仓模拟信息\n",
    "            tmp_data = dict(zip(left_stock_df.S_INFO_STOCKWINDCODE,stknav_to_indnav_pre.astype(float)))\n",
    "            tmp_data.update(dict(zip(present_stock_df.index,present_stock_df.F_PRT_STKVALUETONAV.astype(float))))\n",
    "\n",
    "        holding_info[date] = tmp_data\n",
    "    \n",
    "    # 存储持仓信息的表格\n",
    "    holding_df = pd.DataFrame()\n",
    "    \n",
    "    for date,holdings in holding_info.items(): # 行为每季度的月底，列为所涉及的全部股票\n",
    "        tmp_df = pd.DataFrame(index = [date],columns = holdings.keys())\n",
    "        tmp_df.loc[date,:] = list(holdings.values())\n",
    "        holding_df = holding_df.append(tmp_df)\n",
    "    \n",
    "    # 剩余的仓位用中证全债替代\n",
    "    holding_df.loc[:,\"H11001.CSI\"] = 100 - holding_df.sum(axis = 1)\n",
    "    \n",
    "    # 保存持仓信息\n",
    "#     holding_df.to_excel(\"./Output/PositionCompletionDetail/{}.xlsx\".format(tmp_fund[:6]))"
   ]
  }
 ],
 "metadata": {
  "kernelspec": {
   "display_name": "position_completion_new",
   "language": "python",
   "name": "position_completion_new"
  },
  "language_info": {
   "codemirror_mode": {
    "name": "ipython",
    "version": 3
   },
   "file_extension": ".py",
   "mimetype": "text/x-python",
   "name": "python",
   "nbconvert_exporter": "python",
   "pygments_lexer": "ipython3",
   "version": "3.6.13"
  }
 },
 "nbformat": 4,
 "nbformat_minor": 5
}
